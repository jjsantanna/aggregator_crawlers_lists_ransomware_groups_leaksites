{
 "cells": [
  {
   "cell_type": "code",
   "execution_count": 26,
   "id": "1f65a89d",
   "metadata": {},
   "outputs": [],
   "source": [
    "ecrime_user = \"\"\n",
    "ecrime_password = \"\"\n",
    "ecrime_key = \"\""
   ]
  },
  {
   "cell_type": "markdown",
   "id": "bdcea568",
   "metadata": {},
   "source": [
    "# Aggregator of crawlers and lists of  ransomware groups (+leaksites)"
   ]
  },
  {
   "cell_type": "markdown",
   "id": "6a50811c",
   "metadata": {},
   "source": [
    "| # |Public? | Initiative \t | URL \t|\n",
    "|---|--------|------------\t | -----\t|\n",
    "| 1 | Y      |NoMoreRansom.org| https://www.nomoreransom.org/ |\n",
    "| 2 | Y      |Ransom-DB.com   | https://www.ransom-db.com/ransomware-groups |\n",
    "| 3 | N      |ecrime.ch       | https://ecrime.ch/app/leaksites.php |\n",
    "| 4 | Y      |Ransom Watch    | https://ransomwatch.telemetry.ltd/#/INDEX\t|\n",
    "| 5 | Y      |Github @fastfire deepdarkCTI| https://github.com/fastfire/deepdarkCTI/blob/main/ransomware_gang.md |\n",
    "| 6 | Y      |Reddit r/Malware| https://www.reddit.com/r/Malware/comments/qhse7t/list_of_ransomware_groups_and_their_pr_pages_2021/ |\n",
    "| 7 | Y          \t|\"Ransomware Group Sites\"| http://ransomwr3tsydeii4q43vazm7wofla5ujdajquitomtd47cxjtfgwyyd.onion.pet |\n",
    "| 8 | Y      |Darkfeed.io    | https://darkfeed.io/\t|\n",
    "\n",
    "Things to do:\n",
    "- https://malpedia.caad.fkie.fraunhofer.de/\n",
    "- https://cracked.io/Thread-Other-RANSOMWARE-GROUP-LINKS\n",
    "\n",
    "NOTE: the domains '.pet' \n",
    "\n",
    "Excluded:\n",
    "- https://ransom.wiki/ == https://twitter.com/ransomwatcher because it is mainly focussed on the victims"
   ]
  },
  {
   "cell_type": "markdown",
   "id": "ca564441",
   "metadata": {},
   "source": [
    "### Methodology\n",
    "\n",
    "How do we **equalize** ransomware group names?\n",
    "- lower case letters\n",
    "- remove space between words\n",
    "- remove '_' between words\n",
    "- remove '...'\n",
    "- remove '?'\n",
    "- '1.0' will become '1', '2.0' will become '2', and '3.0' will become '3'\n",
    "- in '\\<something1>/\\<something2>', '\\<something2>' will be part of the other_names column\n",
    "- in '(aka \\<something>)' \\<something> will be part of other_names column\n",
    "\n",
    "Types of crawlers:\n",
    "- using cfscraper and xpath\n",
    "- using cfscraper and pd.read_table\n",
    "- using selenium\n",
    "- using selenium for TOR"
   ]
  },
  {
   "cell_type": "code",
   "execution_count": 27,
   "id": "eda73bdb",
   "metadata": {},
   "outputs": [],
   "source": [
    "import pandas as pd\n",
    "pd.set_option('display.max_colwidth', None)\n",
    "pd.set_option('display.max_rows', None)"
   ]
  },
  {
   "cell_type": "markdown",
   "id": "a786dca6",
   "metadata": {},
   "source": [
    "## Crawler ransomwr3tsydeii4q43vazm7wofla5ujdajquitomtd47cxjtfgwyyd.onion"
   ]
  },
  {
   "cell_type": "code",
   "execution_count": 55,
   "id": "99389abf",
   "metadata": {},
   "outputs": [],
   "source": [
    "import cfscrape\n",
    "from lxml import etree\n",
    "\n",
    "def tor_ransomware_group_sites ():\n",
    "    \n",
    "    url=\"http://ransomwr3tsydeii4q43vazm7wofla5ujdajquitomtd47cxjtfgwyyd.onion.pet\"\n",
    "    \n",
    "    header = {'Accept': 'text/html,application/xhtml+xml,application/xml;q=0.9',\n",
    "              'Accept-Encoding': 'gzip, deflate, sdch',\n",
    "              'Accept-Language' : 'nl-NL,nl;q=0.8,en-US;q=0.6,en;q=0.4',\n",
    "              'Cache-Control' : 'max-age=0',\n",
    "              'Connection': 'keep-alive',\n",
    "              'User-Agent': 'Mozilla/5.0 (X11; Linux x86_64) AppleWebKit/537.36 (KHTML, like Gecko) Chrome/43.0.2357.81 Safari/537.36'}\n",
    "\n",
    "    scraper = cfscrape.create_scraper()\n",
    "    scraped_html=scraper.get(url,headers=header).content\n",
    "\n",
    "    html = etree.HTML(scraped_html)\n",
    "\n",
    "    elements = html.xpath(\"//div[@class='table-body']/div[@class='table-row']\")\n",
    "\n",
    "    # print(scraped_html.decode(\"utf-8\"))\n",
    "\n",
    "    ransomware_links = pd.DataFrame()\n",
    "\n",
    "    for element in elements:\n",
    "        actor = element.xpath(\"div[@class='table-cell']/text()\")[0]\n",
    "        urls = element.xpath(\"div[@class='table-cell']/a/@href\") \n",
    "\n",
    "        for url in urls:\n",
    "            ransomware_links = pd.concat([ransomware_links , pd.DataFrame.from_records([{'actor':actor,'url':url.replace('//','http://').replace('.pet','')}])])\n",
    "       \n",
    "    return ransomware_links"
   ]
  },
  {
   "cell_type": "code",
   "execution_count": 56,
   "id": "a2680cbb",
   "metadata": {},
   "outputs": [],
   "source": [
    "df_tor_info = tor_ransomware_group_sites()\n",
    "df_tor_info.to_csv('data/ransomware_group_url_list_tor.csv')"
   ]
  },
  {
   "cell_type": "markdown",
   "id": "e4219828",
   "metadata": {},
   "source": [
    "## Crawler ecrime.ch: https://ecrime.ch/app/leaksites.php"
   ]
  },
  {
   "cell_type": "code",
   "execution_count": 28,
   "id": "d5e02014",
   "metadata": {},
   "outputs": [],
   "source": [
    "import pandas as pd\n",
    "from selenium import webdriver\n",
    "from webdriver_manager.chrome import ChromeDriverManager\n",
    "from selenium.webdriver.support.ui import WebDriverWait\n",
    "from selenium.webdriver.common.by import By\n",
    "import time\n",
    "\n",
    "def ecrime_ch (ecrime_user, ecrime_password):\n",
    "    driver = webdriver.Chrome(ChromeDriverManager().install())\n",
    "\n",
    "    url = \"https://ecrime.ch/app/login.php\" \n",
    "    driver.get(url)\n",
    "    time.sleep(2)\n",
    "    \n",
    "    username = driver.find_element_by_name(\"email_address\")\n",
    "    password = driver.find_element_by_name(\"password\")\n",
    "    username.send_keys(ecrime_user)\n",
    "    password.send_keys(ecrime_password)\n",
    "    driver.find_element_by_xpath(\"//input[@class='btn btn-primary']\").click()\n",
    "    time.sleep(2)\n",
    "    \n",
    "    url = \"https://ecrime.ch/app/leaksites.php\" \n",
    "    driver.get(url)\n",
    "    driver.find_element_by_xpath('//button[text()=\"⤵ Save as CSV\"]').click()\n",
    "    time.sleep(2)\n",
    "    \n",
    "    df_ecrimech = pd.read_csv('~/Downloads/ecrime.ch-leaksites.csv')\n",
    "    df_ecrimech = df_ecrimech.drop(columns=['Status','Last Seen (UTC)']).rename(columns={'Actor/Malware':'actor', 'URL':'url'})    \n",
    "    df_ecrimech['actor'] = equalize_names(df_ecrimech['actor'])\n",
    "    df_ecrimech['other_names'] = df_ecrimech['actor'].dropna().apply(lambda x: x.split('/')[1] if '/'in x else '')\n",
    "    df_ecrimech['actor'] = df_ecrimech['actor'].dropna().apply(lambda x: x.split('/')[0])\n",
    "\n",
    "    !rm '/Users/nw/Downloads/ecrime.ch-leaksites.csv'\n",
    "    \n",
    "    driver.quit()\n",
    "    \n",
    "    return df_ecrimech"
   ]
  },
  {
   "cell_type": "code",
   "execution_count": 29,
   "id": "f1b59b2d",
   "metadata": {},
   "outputs": [
    {
     "name": "stderr",
     "output_type": "stream",
     "text": [
      "\n",
      "\n",
      "====== WebDriver manager ======\n",
      "Current google-chrome version is 106.0.5249\n",
      "Get LATEST driver version for 106.0.5249\n",
      "Driver [/Users/nw/.wdm/drivers/chromedriver/mac64/106.0.5249.61/chromedriver] found in cache\n"
     ]
    }
   ],
   "source": [
    "df_ecrime = ecrime_ch (ecrime_user, ecrime_password)\n",
    "df_ecrime.to_csv('data/ransomware_group_url_list_ecrimech.csv')"
   ]
  },
  {
   "cell_type": "code",
   "execution_count": 44,
   "id": "628502af",
   "metadata": {},
   "outputs": [
    {
     "data": {
      "text/html": [
       "<div>\n",
       "<style scoped>\n",
       "    .dataframe tbody tr th:only-of-type {\n",
       "        vertical-align: middle;\n",
       "    }\n",
       "\n",
       "    .dataframe tbody tr th {\n",
       "        vertical-align: top;\n",
       "    }\n",
       "\n",
       "    .dataframe thead th {\n",
       "        text-align: right;\n",
       "    }\n",
       "</style>\n",
       "<table border=\"1\" class=\"dataframe\">\n",
       "  <thead>\n",
       "    <tr style=\"text-align: right;\">\n",
       "      <th></th>\n",
       "      <th>Unnamed: 0</th>\n",
       "      <th>actor</th>\n",
       "      <th>url</th>\n",
       "      <th>other_names</th>\n",
       "      <th>all_actor_names</th>\n",
       "    </tr>\n",
       "  </thead>\n",
       "  <tbody>\n",
       "    <tr>\n",
       "      <th>1</th>\n",
       "      <td>1</td>\n",
       "      <td>54bb47h</td>\n",
       "      <td>http://54bb47h5qu4k7l4d7v5ix3i6ak6elysn3net4by4ihmvrhu7cvbskoqd.onion/</td>\n",
       "      <td>sabbath</td>\n",
       "      <td>[54bb47h]</td>\n",
       "    </tr>\n",
       "    <tr>\n",
       "      <th>2</th>\n",
       "      <td>2</td>\n",
       "      <td>54bb47h</td>\n",
       "      <td>http://54bb47h.blog/</td>\n",
       "      <td>sabbath</td>\n",
       "      <td>[54bb47h]</td>\n",
       "    </tr>\n",
       "    <tr>\n",
       "      <th>47</th>\n",
       "      <td>47</td>\n",
       "      <td>d0n#t::leaks::</td>\n",
       "      <td>https://sbc2zv2qnz5vubwtx3aobfpkeao6l4igjegm3xx7tk5suqhjkp5jxtqd.onion/</td>\n",
       "      <td>donutleaks</td>\n",
       "      <td>[d0n#t::leaks::]</td>\n",
       "    </tr>\n",
       "  </tbody>\n",
       "</table>\n",
       "</div>"
      ],
      "text/plain": [
       "    Unnamed: 0           actor  \\\n",
       "1            1         54bb47h   \n",
       "2            2         54bb47h   \n",
       "47          47  d0n#t::leaks::   \n",
       "\n",
       "                                                                        url  \\\n",
       "1    http://54bb47h5qu4k7l4d7v5ix3i6ak6elysn3net4by4ihmvrhu7cvbskoqd.onion/   \n",
       "2                                                      http://54bb47h.blog/   \n",
       "47  https://sbc2zv2qnz5vubwtx3aobfpkeao6l4igjegm3xx7tk5suqhjkp5jxtqd.onion/   \n",
       "\n",
       "   other_names   all_actor_names  \n",
       "1      sabbath         [54bb47h]  \n",
       "2      sabbath         [54bb47h]  \n",
       "47  donutleaks  [d0n#t::leaks::]  "
      ]
     },
     "execution_count": 44,
     "metadata": {},
     "output_type": "execute_result"
    }
   ],
   "source": [
    "df_ecrime"
   ]
  },
  {
   "cell_type": "markdown",
   "id": "e096216f",
   "metadata": {},
   "source": [
    "## Crawler NoMoreRansom Ransomware Groups (that have decription tools)"
   ]
  },
  {
   "cell_type": "code",
   "execution_count": 56,
   "id": "9e5d8096",
   "metadata": {},
   "outputs": [],
   "source": [
    "import pandas as pd\n",
    "import cfscrape\n",
    "from lxml import etree\n",
    "\n",
    "def nomoreransom ():\n",
    "    url = \"https://www.nomoreransom.org/en/decryption-tools.html\" \n",
    "    \n",
    "    header = {'Accept': 'text/html,application/xhtml+xml,application/xml;q=0.9',\n",
    "          'Accept-Encoding': 'gzip, deflate, sdch',\n",
    "          'Accept-Language' : 'nl-NL,nl;q=0.8,en-US;q=0.6,en;q=0.4',\n",
    "          'Cache-Control' : 'max-age=0',\n",
    "          'Connection': 'keep-alive',\n",
    "          'User-Agent': 'Mozilla/5.0 (X11; Linux x86_64) AppleWebKit/537.36 (KHTML, like Gecko) Chrome/43.0.2357.81 Safari/537.36'}\n",
    "\n",
    "    scraper = cfscrape.create_scraper()\n",
    "    scraped_html=scraper.get(url,headers=header).content\n",
    "    html = etree.HTML(scraped_html)\n",
    "\n",
    "    \n",
    "    df = pd.DataFrame()\n",
    "    elements = html.xpath(\"//button[@class='expandable-toggler']\")\n",
    "    for element in elements:\n",
    "        df = pd.concat([df , pd.DataFrame.from_records([{'actor':element.text}])])\n",
    "    \n",
    "    return df"
   ]
  },
  {
   "cell_type": "code",
   "execution_count": 57,
   "id": "6de11279",
   "metadata": {},
   "outputs": [],
   "source": [
    "df_nomoreransom = nomoreransom ()\n",
    "df_nomoreransom.to_csv('data/ransomware_group_list_nomoreransom.csv')"
   ]
  },
  {
   "cell_type": "markdown",
   "id": "29493e80",
   "metadata": {},
   "source": [
    "## Get STATIC https://www.reddit.com/r/Malware/comments/qhse7t/list_of_ransomware_groups_and_their_pr_pages_2021/"
   ]
  },
  {
   "cell_type": "code",
   "execution_count": 4,
   "id": "b740e88c",
   "metadata": {},
   "outputs": [],
   "source": [
    "url = \"https://www.reddit.com/r/Malware/comments/qhse7t/list_of_ransomware_groups_and_their_pr_pages_2021/\" \n",
    "\n",
    "import cfscrape\n",
    "from lxml import etree\n",
    "\n",
    "scraper = cfscrape.create_scraper()\n",
    "scraped_html=scraper.get(url).content\n",
    "html = etree.HTML(scraped_html)\n",
    "elements = html.xpath(\"//div[@class='_3xX726aBn29LDbsDtzr_6E _1Ap4F5maDtT1E1YuCiaO0r D3IL3FD0RFy_mkKLPwL4']/div/p\")\n",
    "\n",
    "df_reddit = pd.DataFrame()\n",
    "for element in elements:\n",
    "    try:\n",
    "        actor = element.text.replace(':','')\n",
    "        url = element.xpath(\"a/@href\")[0]\n",
    "        df_reddit = pd.concat([df_reddit , pd.DataFrame.from_records([{'actor':actor, 'url':url}])])\n",
    "    except:\n",
    "        next"
   ]
  },
  {
   "cell_type": "code",
   "execution_count": 6,
   "id": "38a7b6d0",
   "metadata": {},
   "outputs": [],
   "source": [
    "df_reddit.to_csv('data/ransomware_group_url_list_reddit2021.csv')"
   ]
  },
  {
   "cell_type": "markdown",
   "id": "d17b1bea",
   "metadata": {},
   "source": [
    "## Crawl Ransom DB https://www.ransom-db.com/ransomware-groups"
   ]
  },
  {
   "cell_type": "code",
   "execution_count": 65,
   "id": "44aefa59",
   "metadata": {},
   "outputs": [],
   "source": [
    "url = \"https://www.ransom-db.com/ransomware-groups\" \n",
    "\n",
    "import cfscrape\n",
    "from lxml import etree\n",
    "\n",
    "scraper = cfscrape.create_scraper()\n",
    "scraped_html=scraper.get(url).content\n",
    "tables = pd.read_html(scraped_html)\n",
    "\n",
    "df_ransomdb = tables[0].drop(columns=['No.','Description','Last Incident \\ Victim','Victim Count','Last Seen','Icon']).rename(columns={'Group Name':'actor'})    \n",
    "df_ransomdb.to_csv('data/ransomware_group_list_ransomdb.csv')"
   ]
  },
  {
   "cell_type": "markdown",
   "id": "453d1dda",
   "metadata": {},
   "source": [
    "## Crawler Ransom Watch: https://ransomwatch.telemetry.ltd/#/INDEX\n",
    "It is a Jekyll based on https://raw.githubusercontent.com/joshhighet/ransomwatch/5d5caf0542d9ca5a225e15fa1cbf8b404a013d31/docs/INDEX.md\n",
    "\n",
    "NOTE: the @joshhighet contacted us to change the crawler for a better solution. \n",
    "```\n",
    "in lieu of parsing markdown you may find it easier to just leverage the files that generate them, http://ransomwhat.telemetry.ltd/posts & http://ransomwhat.telemetry.ltd/groups\n",
    "```\n",
    "THANKS! We've decided to comment the crawler.\n",
    "\n",
    "NOTE: http://ransomwhat.telemetry.ltd/groups points to https://raw.githubusercontent.com/joshhighet/ransomwatch/main/groups.json\n"
   ]
  },
  {
   "cell_type": "code",
   "execution_count": 201,
   "id": "9550229d",
   "metadata": {},
   "outputs": [],
   "source": [
    "# url = 'https://raw.githubusercontent.com/joshhighet/ransomwatch/5d5caf0542d9ca5a225e15fa1cbf8b404a013d31/docs/INDEX.md'\n",
    "\n",
    "# df_ransomwatch = pd.read_table(url, sep=\"|\", header=1, skipinitialspace=True).dropna(axis=1, how='all').iloc[1:]\n",
    "# df_ransomwatch = df_ransomwatch.drop(columns=['title ','status ','last seen ']).rename(columns={'group ':'actor','location ':'url'})\n",
    "# df_ransomwatch['actor'] = df_ransomwatch['actor'].apply(lambda x: x.split(']')[0].replace('[',''))"
   ]
  },
  {
   "cell_type": "code",
   "execution_count": 35,
   "id": "7dca839b",
   "metadata": {},
   "outputs": [],
   "source": [
    "df_ransomwatch = pd.read_json(\"https://raw.githubusercontent.com/joshhighet/ransomwatch/main/groups.json\")\n",
    "\n",
    "df_ransomwatch['url'] = [[d.get('fqdn') for d in x] for x in df_ransomwatch['locations']]\n",
    "\n",
    "df_ransomwatch = df_ransomwatch.drop(columns=['captcha','parser','javascript_render','meta','profile', 'locations']).rename(columns={'name':'actor'})"
   ]
  },
  {
   "cell_type": "code",
   "execution_count": 38,
   "id": "2c4164f7",
   "metadata": {},
   "outputs": [],
   "source": [
    "df_ransomwatch.to_csv('data/ransomware_group_url_list_ransomwatch.csv')"
   ]
  },
  {
   "cell_type": "markdown",
   "id": "53f9593c",
   "metadata": {},
   "source": [
    "## Crawler Github @fastfire ransomware-gang: https://github.com/fastfire/deepdarkCTI/blob/main/ransomware_gang.md\n",
    "This is the same as: https://raw.githubusercontent.com/fastfire/deepdarkCTI/main/ransomware_gang.md\n",
    "\n",
    "ATTENTION: Not all URLs are from ransomware groups!"
   ]
  },
  {
   "cell_type": "code",
   "execution_count": 121,
   "id": "89c0f73a",
   "metadata": {},
   "outputs": [],
   "source": [
    "url = 'https://raw.githubusercontent.com/fastfire/deepdarkCTI/main/ransomware_gang.md'\n",
    "\n",
    "df_deepdarkcti = pd.read_table(url, sep=\"|\", header=1, skipinitialspace=True).dropna(axis=1, how='all')\n",
    "\n",
    "df_deepdarkcti = df_deepdarkcti.drop(columns=['------ .1','------ .2','------ .3','------ .4'])\n",
    "\n",
    "df_deepdarkcti['actor'] = df_deepdarkcti['------ '].apply(lambda x: x.split(']')[0].replace('[',''))\n",
    "df_deepdarkcti['url'] = df_deepdarkcti['------ '].apply(lambda x: x.split('(')[-1].replace(')',''))\n",
    "\n",
    "df_deepdarkcti = df_deepdarkcti.drop(columns=['------ '])\n",
    "\n",
    "toremove = ['RANSOM DB','RANSOMWARE GROUP SITES (list)' ]\n",
    "df_deepdarkcti = df_deepdarkcti[~df_deepdarkcti['actor'].isin(toremove)]\n",
    "\n",
    "df_deepdarkcti.to_csv('data/ransomware_group_url_list_deepdarkcti.csv')"
   ]
  },
  {
   "cell_type": "markdown",
   "id": "38c1c2c1",
   "metadata": {},
   "source": [
    "## Crawler Darkfeed.io"
   ]
  },
  {
   "cell_type": "code",
   "execution_count": 4,
   "id": "7530898f",
   "metadata": {},
   "outputs": [],
   "source": [
    "url = \"https://darkfeed.io/ransomgroups/\" \n",
    "\n",
    "import cfscrape\n",
    "from lxml import etree\n",
    "\n",
    "scraper = cfscrape.create_scraper()\n",
    "scraped_html=scraper.get(url).content\n",
    "html = etree.HTML(scraped_html)\n",
    "\n",
    "elements = html.xpath(\"//div[@class='elementor-widget-container']/h5\")\n",
    "\n",
    "df_darkfeed = pd.DataFrame()\n",
    "for element in elements:\n",
    "    try:\n",
    "        actor = element.xpath(\"a/text()\")[0]\n",
    "        if actor == 'Telegram':\n",
    "            next\n",
    "        url = element.xpath(\"a/@href\")[0]\n",
    "        df_darkfeed = pd.concat([df_darkfeed , pd.DataFrame.from_records([{'actor':actor, 'url':url}])])\n",
    "    except:\n",
    "        next\n",
    "\n",
    "df_darkfeed.reset_index(drop=True, inplace=True)\n",
    "df_darkfeed.to_csv('data/ransomware_group_url_list_darkfeed.csv')"
   ]
  },
  {
   "cell_type": "markdown",
   "id": "12261563",
   "metadata": {},
   "source": [
    "## ===================="
   ]
  },
  {
   "cell_type": "code",
   "execution_count": 39,
   "id": "e9e1c77d",
   "metadata": {},
   "outputs": [],
   "source": [
    "import pandas as pd"
   ]
  },
  {
   "cell_type": "code",
   "execution_count": 56,
   "id": "5bb31583",
   "metadata": {},
   "outputs": [],
   "source": [
    "def equalize_names (df_series):   \n",
    "    return df_series.str.lower()\\\n",
    "                    .str.replace(\"former \",'',regex=False)\\\n",
    "                    .str.replace(\"aka \",'',regex=False)\\\n",
    "                    .str.replace(\"(victims page)\",\"\",regex=False)\\\n",
    "                    .str.replace(\"(victims request id page)\",\"\",regex=False)\\\n",
    "                    .str.replace(\"(support page)\",\"\",regex=False)\\\n",
    "                    .str.replace(\"(tor v3)\",\"\",regex=False)\\\n",
    "                    .str.replace(\"(tor v2)\",\"\",regex=False)\\\n",
    "                    .str.replace(\"(1)\",\"\",regex=False)\\\n",
    "                    .str.replace(\"(2)\",\"\",regex=False)\\\n",
    "                    .str.replace(\"(3)\",\"\",regex=False)\\\n",
    "                    .str.replace(\"(4)\",\"\",regex=False)\\\n",
    "                    .str.replace(\"(old)\",\"\",regex=False)\\\n",
    "                    .str.replace(\"(new)\",\"\",regex=False)\\\n",
    "                    .str.replace(\"(deep)\",\"\",regex=False)\\\n",
    "                    .str.replace(\"support\",\"\",regex=False)\\\n",
    "                    .str.replace(\"(dark)\",\"\",regex=False)\\\n",
    "                    .str.replace(\"loker\",\"\",regex=False)\\\n",
    "                    .str.replace(\" \",\"\",regex=False)\\\n",
    "                    .str.replace(\"_\",\"\",regex=False)\\\n",
    "                    .str.replace(\"?\",\"\",regex=False)\\\n",
    "                    .str.replace('\\.\\.\\.',\"\",regex=False)\\\n",
    "                    .str.replace('\"','',regex=False)\\\n",
    "                    .str.replace(\"'\",\"\",regex=False)\\\n",
    "                    .str.replace(\"group\",\"\",regex=False)\\\n",
    "                    .str.replace(\"ransomware\",\"\",regex=False)\\\n",
    "                    .str.replace(\"ransom\",\"\",regex=False)\\\n",
    "                    .str.replace(\"2.0\",\"2\",regex=False)\\\n",
    "                    .str.replace(\"3.0\",\"3\",regex=False)\n",
    "\n",
    "def split_all_name (df_series):\n",
    "    actors=[]\n",
    "    for actor in df_series:\n",
    "        if '/' in actor:\n",
    "            actors.append(actor.split('/'))\n",
    "        elif '(' in actor:\n",
    "            actors.append(actor.replace(')','').split('('))\n",
    "        else:\n",
    "            actors.append([actor])\n",
    "    return actors"
   ]
  },
  {
   "cell_type": "markdown",
   "id": "2b3f752e",
   "metadata": {},
   "source": [
    "### ecrime"
   ]
  },
  {
   "cell_type": "code",
   "execution_count": 60,
   "id": "5803c94e",
   "metadata": {},
   "outputs": [
    {
     "ename": "ValueError",
     "evalue": "Length of values (174) does not match length of index (175)",
     "output_type": "error",
     "traceback": [
      "\u001b[0;31m---------------------------------------------------------------------------\u001b[0m",
      "\u001b[0;31mValueError\u001b[0m                                Traceback (most recent call last)",
      "\u001b[0;32m<ipython-input-60-4b709cdebe56>\u001b[0m in \u001b[0;36m<module>\u001b[0;34m\u001b[0m\n\u001b[1;32m      1\u001b[0m \u001b[0mdf_ecrime\u001b[0m \u001b[0;34m=\u001b[0m \u001b[0mpd\u001b[0m\u001b[0;34m.\u001b[0m\u001b[0mread_csv\u001b[0m\u001b[0;34m(\u001b[0m\u001b[0;34m'data/ransomware_group_url_list_ecrimech.csv'\u001b[0m\u001b[0;34m)\u001b[0m\u001b[0;34m\u001b[0m\u001b[0;34m\u001b[0m\u001b[0m\n\u001b[1;32m      2\u001b[0m \u001b[0;34m\u001b[0m\u001b[0m\n\u001b[0;32m----> 3\u001b[0;31m df_ecrime['all_actor_names'] = split_all_name(\\\n\u001b[0m\u001b[1;32m      4\u001b[0m                                     equalize_names (df_ecrime['actor']))\n",
      "\u001b[0;32m/usr/local/lib/python3.9/site-packages/pandas/core/frame.py\u001b[0m in \u001b[0;36m__setitem__\u001b[0;34m(self, key, value)\u001b[0m\n\u001b[1;32m   3653\u001b[0m         \u001b[0;32melse\u001b[0m\u001b[0;34m:\u001b[0m\u001b[0;34m\u001b[0m\u001b[0;34m\u001b[0m\u001b[0m\n\u001b[1;32m   3654\u001b[0m             \u001b[0;31m# set column\u001b[0m\u001b[0;34m\u001b[0m\u001b[0;34m\u001b[0m\u001b[0m\n\u001b[0;32m-> 3655\u001b[0;31m             \u001b[0mself\u001b[0m\u001b[0;34m.\u001b[0m\u001b[0m_set_item\u001b[0m\u001b[0;34m(\u001b[0m\u001b[0mkey\u001b[0m\u001b[0;34m,\u001b[0m \u001b[0mvalue\u001b[0m\u001b[0;34m)\u001b[0m\u001b[0;34m\u001b[0m\u001b[0;34m\u001b[0m\u001b[0m\n\u001b[0m\u001b[1;32m   3656\u001b[0m \u001b[0;34m\u001b[0m\u001b[0m\n\u001b[1;32m   3657\u001b[0m     \u001b[0;32mdef\u001b[0m \u001b[0m_setitem_slice\u001b[0m\u001b[0;34m(\u001b[0m\u001b[0mself\u001b[0m\u001b[0;34m,\u001b[0m \u001b[0mkey\u001b[0m\u001b[0;34m:\u001b[0m \u001b[0mslice\u001b[0m\u001b[0;34m,\u001b[0m \u001b[0mvalue\u001b[0m\u001b[0;34m)\u001b[0m\u001b[0;34m:\u001b[0m\u001b[0;34m\u001b[0m\u001b[0;34m\u001b[0m\u001b[0m\n",
      "\u001b[0;32m/usr/local/lib/python3.9/site-packages/pandas/core/frame.py\u001b[0m in \u001b[0;36m_set_item\u001b[0;34m(self, key, value)\u001b[0m\n\u001b[1;32m   3830\u001b[0m         \u001b[0mensure\u001b[0m \u001b[0mhomogeneity\u001b[0m\u001b[0;34m.\u001b[0m\u001b[0;34m\u001b[0m\u001b[0;34m\u001b[0m\u001b[0m\n\u001b[1;32m   3831\u001b[0m         \"\"\"\n\u001b[0;32m-> 3832\u001b[0;31m         \u001b[0mvalue\u001b[0m \u001b[0;34m=\u001b[0m \u001b[0mself\u001b[0m\u001b[0;34m.\u001b[0m\u001b[0m_sanitize_column\u001b[0m\u001b[0;34m(\u001b[0m\u001b[0mvalue\u001b[0m\u001b[0;34m)\u001b[0m\u001b[0;34m\u001b[0m\u001b[0;34m\u001b[0m\u001b[0m\n\u001b[0m\u001b[1;32m   3833\u001b[0m \u001b[0;34m\u001b[0m\u001b[0m\n\u001b[1;32m   3834\u001b[0m         if (\n",
      "\u001b[0;32m/usr/local/lib/python3.9/site-packages/pandas/core/frame.py\u001b[0m in \u001b[0;36m_sanitize_column\u001b[0;34m(self, value)\u001b[0m\n\u001b[1;32m   4527\u001b[0m \u001b[0;34m\u001b[0m\u001b[0m\n\u001b[1;32m   4528\u001b[0m         \u001b[0;32mif\u001b[0m \u001b[0mis_list_like\u001b[0m\u001b[0;34m(\u001b[0m\u001b[0mvalue\u001b[0m\u001b[0;34m)\u001b[0m\u001b[0;34m:\u001b[0m\u001b[0;34m\u001b[0m\u001b[0;34m\u001b[0m\u001b[0m\n\u001b[0;32m-> 4529\u001b[0;31m             \u001b[0mcom\u001b[0m\u001b[0;34m.\u001b[0m\u001b[0mrequire_length_match\u001b[0m\u001b[0;34m(\u001b[0m\u001b[0mvalue\u001b[0m\u001b[0;34m,\u001b[0m \u001b[0mself\u001b[0m\u001b[0;34m.\u001b[0m\u001b[0mindex\u001b[0m\u001b[0;34m)\u001b[0m\u001b[0;34m\u001b[0m\u001b[0;34m\u001b[0m\u001b[0m\n\u001b[0m\u001b[1;32m   4530\u001b[0m         \u001b[0;32mreturn\u001b[0m \u001b[0msanitize_array\u001b[0m\u001b[0;34m(\u001b[0m\u001b[0mvalue\u001b[0m\u001b[0;34m,\u001b[0m \u001b[0mself\u001b[0m\u001b[0;34m.\u001b[0m\u001b[0mindex\u001b[0m\u001b[0;34m,\u001b[0m \u001b[0mcopy\u001b[0m\u001b[0;34m=\u001b[0m\u001b[0;32mTrue\u001b[0m\u001b[0;34m,\u001b[0m \u001b[0mallow_2d\u001b[0m\u001b[0;34m=\u001b[0m\u001b[0;32mTrue\u001b[0m\u001b[0;34m)\u001b[0m\u001b[0;34m\u001b[0m\u001b[0;34m\u001b[0m\u001b[0m\n\u001b[1;32m   4531\u001b[0m \u001b[0;34m\u001b[0m\u001b[0m\n",
      "\u001b[0;32m/usr/local/lib/python3.9/site-packages/pandas/core/common.py\u001b[0m in \u001b[0;36mrequire_length_match\u001b[0;34m(data, index)\u001b[0m\n\u001b[1;32m    555\u001b[0m     \"\"\"\n\u001b[1;32m    556\u001b[0m     \u001b[0;32mif\u001b[0m \u001b[0mlen\u001b[0m\u001b[0;34m(\u001b[0m\u001b[0mdata\u001b[0m\u001b[0;34m)\u001b[0m \u001b[0;34m!=\u001b[0m \u001b[0mlen\u001b[0m\u001b[0;34m(\u001b[0m\u001b[0mindex\u001b[0m\u001b[0;34m)\u001b[0m\u001b[0;34m:\u001b[0m\u001b[0;34m\u001b[0m\u001b[0;34m\u001b[0m\u001b[0m\n\u001b[0;32m--> 557\u001b[0;31m         raise ValueError(\n\u001b[0m\u001b[1;32m    558\u001b[0m             \u001b[0;34m\"Length of values \"\u001b[0m\u001b[0;34m\u001b[0m\u001b[0;34m\u001b[0m\u001b[0m\n\u001b[1;32m    559\u001b[0m             \u001b[0;34mf\"({len(data)}) \"\u001b[0m\u001b[0;34m\u001b[0m\u001b[0;34m\u001b[0m\u001b[0m\n",
      "\u001b[0;31mValueError\u001b[0m: Length of values (174) does not match length of index (175)"
     ]
    }
   ],
   "source": [
    "df_ecrime = pd.read_csv('data/ransomware_group_url_list_ecrimech.csv')\n",
    "\n",
    "df_ecrime['all_actor_names'] = split_all_name(\\\n",
    "                                    equalize_names (df_ecrime['actor']))"
   ]
  },
  {
   "cell_type": "markdown",
   "id": "7b155fd6",
   "metadata": {},
   "source": [
    "### nomoreransom"
   ]
  },
  {
   "cell_type": "code",
   "execution_count": 32,
   "id": "2491e4ec",
   "metadata": {},
   "outputs": [],
   "source": [
    "df_nomoreransom = pd.read_csv('data/ransomware_group_list_nomoreransom.csv')\n",
    "\n",
    "df_nomoreransom['all_actor_names'] = split_all_name(\\\n",
    "                                    equalize_names (df_nomoreransom['actor']))"
   ]
  },
  {
   "cell_type": "markdown",
   "id": "43c04f3d",
   "metadata": {},
   "source": [
    "### tor node"
   ]
  },
  {
   "cell_type": "code",
   "execution_count": 33,
   "id": "964ae6d4",
   "metadata": {},
   "outputs": [],
   "source": [
    "df_tornode = pd.read_csv('data/ransomware_group_url_list_tor.csv')\n",
    "\n",
    "df_tornode['all_actor_names'] = split_all_name(\\\n",
    "                                    equalize_names (df_tornode['actor']))"
   ]
  },
  {
   "cell_type": "markdown",
   "id": "1e2c5620",
   "metadata": {},
   "source": [
    "### reddit2021"
   ]
  },
  {
   "cell_type": "code",
   "execution_count": 34,
   "id": "a75bb268",
   "metadata": {},
   "outputs": [],
   "source": [
    "df_reddit2021 = pd.read_csv('data/ransomware_group_url_list_reddit2021.csv')\n",
    "\n",
    "df_reddit2021['all_actor_names'] = split_all_name(\\\n",
    "                                    equalize_names (df_reddit2021['actor']))"
   ]
  },
  {
   "cell_type": "markdown",
   "id": "9827362f",
   "metadata": {},
   "source": [
    "### deepdarkcti"
   ]
  },
  {
   "cell_type": "code",
   "execution_count": 35,
   "id": "aeed124b",
   "metadata": {},
   "outputs": [],
   "source": [
    "df_deepdarkcti = pd.read_csv('data/ransomware_group_url_list_deepdarkcti.csv')\n",
    "df_deepdarkcti['all_actor_names'] = split_all_name(\\\n",
    "                                    equalize_names (df_deepdarkcti['actor']))"
   ]
  },
  {
   "cell_type": "markdown",
   "id": "06490b47",
   "metadata": {},
   "source": [
    "### ransomwatch"
   ]
  },
  {
   "cell_type": "code",
   "execution_count": 36,
   "id": "d027df3a",
   "metadata": {},
   "outputs": [],
   "source": [
    "df_ransomwatch = pd.read_csv('data/ransomware_group_url_list_ransomwatch.csv')\n",
    "df_ransomwatch['all_actor_names'] = split_all_name(\\\n",
    "                                    equalize_names (df_ransomwatch['actor']))"
   ]
  },
  {
   "cell_type": "markdown",
   "id": "5125dcaa",
   "metadata": {},
   "source": [
    "### ransomdb"
   ]
  },
  {
   "cell_type": "code",
   "execution_count": 37,
   "id": "cb797715",
   "metadata": {},
   "outputs": [],
   "source": [
    "df_ransomdb = pd.read_csv('data/ransomware_group_list_ransomdb.csv')\n",
    "df_ransomdb['all_actor_names'] = split_all_name(\\\n",
    "                                    equalize_names (df_ransomdb['actor']))"
   ]
  },
  {
   "cell_type": "markdown",
   "id": "2d64db91",
   "metadata": {},
   "source": [
    "### darkfeed.io"
   ]
  },
  {
   "cell_type": "code",
   "execution_count": 38,
   "id": "62e9564c",
   "metadata": {},
   "outputs": [],
   "source": [
    "df_darkfeed = pd.read_csv('data/ransomware_group_url_list_darkfeed.csv')\n",
    "df_darkfeed['all_actor_names'] = split_all_name(\\\n",
    "                                    equalize_names (df_darkfeed['actor']))"
   ]
  },
  {
   "cell_type": "markdown",
   "id": "4c0c1b31",
   "metadata": {},
   "source": [
    "# COMPARING"
   ]
  },
  {
   "cell_type": "code",
   "execution_count": 39,
   "id": "cebbfa5c",
   "metadata": {},
   "outputs": [],
   "source": [
    "ecrime = set([x for l in df_ecrime['all_actor_names'] for x in l])\n",
    "tornode = set([x for l in df_tornode['all_actor_names'] for x in l])\n",
    "reddit2021 = set([x for l in df_reddit2021['all_actor_names'] for x in l])\n",
    "deepdarkcti = set([x for l in df_deepdarkcti['all_actor_names'] for x in l])\n",
    "ransomwatch = set([x for l in df_ransomwatch['all_actor_names'] for x in l])\n",
    "nomoreransom = set([x for l in df_nomoreransom['all_actor_names'] for x in l])\n",
    "ransomdb = set([x for l in df_ransomdb['all_actor_names'] for x in l])\n",
    "darkfeed = set([x for l in df_darkfeed['all_actor_names'] for x in l])"
   ]
  },
  {
   "cell_type": "markdown",
   "id": "2a49bac2",
   "metadata": {},
   "source": [
    "#### Stats unique names"
   ]
  },
  {
   "cell_type": "code",
   "execution_count": 40,
   "id": "30d65697",
   "metadata": {},
   "outputs": [
    {
     "name": "stdout",
     "output_type": "stream",
     "text": [
      "ecrime: 2\n",
      "tornode: 77\n",
      "reddit2021: 25\n",
      "deepdarkcti: 129\n",
      "ransomwatch: 125\n",
      "nomoreransom: 127\n",
      "ransomdb: 54\n",
      "darkfeed: 49\n"
     ]
    }
   ],
   "source": [
    "print(\"ecrime:\",len(ecrime))\n",
    "print(\"tornode:\",len(tornode))\n",
    "print(\"reddit2021:\",len(reddit2021))\n",
    "print(\"deepdarkcti:\",len(deepdarkcti))\n",
    "print(\"ransomwatch:\",len(ransomwatch))\n",
    "print(\"nomoreransom:\",len(nomoreransom))\n",
    "print(\"ransomdb:\",len(ransomdb))\n",
    "print(\"darkfeed:\",len(darkfeed))"
   ]
  },
  {
   "cell_type": "markdown",
   "id": "afaf683b",
   "metadata": {},
   "source": [
    "#### Intersection Matrix"
   ]
  },
  {
   "cell_type": "code",
   "execution_count": 62,
   "id": "fe7d60f1",
   "metadata": {},
   "outputs": [],
   "source": [
    "list_initiatives = [\n",
    "#     'ecrime',\n",
    "                    'tornode','reddit2021','deepdarkcti','ransomwatch','nomoreransom','ransomdb','darkfeed']"
   ]
  },
  {
   "cell_type": "code",
   "execution_count": 63,
   "id": "b8fd5453",
   "metadata": {},
   "outputs": [],
   "source": [
    "matrix_intersection = pd.DataFrame(columns=list_initiatives,index=list_initiatives)\n",
    "\n",
    "for initiative1 in list_initiatives:\n",
    "    for initiative2 in list_initiatives:\n",
    "        matrix_intersection.loc[initiative1,initiative2] = len(eval(initiative1) & eval(initiative2))"
   ]
  },
  {
   "cell_type": "code",
   "execution_count": 64,
   "id": "90e38e20",
   "metadata": {},
   "outputs": [
    {
     "data": {
      "text/html": [
       "<style type=\"text/css\">\n",
       "#T_50fc6_row0_col0, #T_50fc6_row1_col1, #T_50fc6_row2_col2, #T_50fc6_row3_col3, #T_50fc6_row4_col4, #T_50fc6_row5_col5, #T_50fc6_row6_col6 {\n",
       "  background-color: #023858;\n",
       "  color: #f1f1f1;\n",
       "}\n",
       "#T_50fc6_row0_col1 {\n",
       "  background-color: #045280;\n",
       "  color: #f1f1f1;\n",
       "}\n",
       "#T_50fc6_row0_col2 {\n",
       "  background-color: #9fbad9;\n",
       "  color: #000000;\n",
       "}\n",
       "#T_50fc6_row0_col3 {\n",
       "  background-color: #94b6d7;\n",
       "  color: #000000;\n",
       "}\n",
       "#T_50fc6_row0_col4 {\n",
       "  background-color: #f9f2f8;\n",
       "  color: #000000;\n",
       "}\n",
       "#T_50fc6_row0_col5, #T_50fc6_row2_col5 {\n",
       "  background-color: #2c89bd;\n",
       "  color: #f1f1f1;\n",
       "}\n",
       "#T_50fc6_row0_col6, #T_50fc6_row2_col6 {\n",
       "  background-color: #7dacd1;\n",
       "  color: #f1f1f1;\n",
       "}\n",
       "#T_50fc6_row1_col0, #T_50fc6_row5_col3 {\n",
       "  background-color: #d2d3e7;\n",
       "  color: #000000;\n",
       "}\n",
       "#T_50fc6_row1_col2, #T_50fc6_row2_col4 {\n",
       "  background-color: #f2ecf5;\n",
       "  color: #000000;\n",
       "}\n",
       "#T_50fc6_row1_col3, #T_50fc6_row6_col2 {\n",
       "  background-color: #f0eaf4;\n",
       "  color: #000000;\n",
       "}\n",
       "#T_50fc6_row1_col4 {\n",
       "  background-color: #fbf4f9;\n",
       "  color: #000000;\n",
       "}\n",
       "#T_50fc6_row1_col5 {\n",
       "  background-color: #ebe6f2;\n",
       "  color: #000000;\n",
       "}\n",
       "#T_50fc6_row1_col6 {\n",
       "  background-color: #dedcec;\n",
       "  color: #000000;\n",
       "}\n",
       "#T_50fc6_row2_col0 {\n",
       "  background-color: #0c74b2;\n",
       "  color: #f1f1f1;\n",
       "}\n",
       "#T_50fc6_row2_col1 {\n",
       "  background-color: #045d92;\n",
       "  color: #f1f1f1;\n",
       "}\n",
       "#T_50fc6_row2_col3 {\n",
       "  background-color: #2987bc;\n",
       "  color: #f1f1f1;\n",
       "}\n",
       "#T_50fc6_row3_col0 {\n",
       "  background-color: #1278b4;\n",
       "  color: #f1f1f1;\n",
       "}\n",
       "#T_50fc6_row3_col1 {\n",
       "  background-color: #056dac;\n",
       "  color: #f1f1f1;\n",
       "}\n",
       "#T_50fc6_row3_col2 {\n",
       "  background-color: #3790c0;\n",
       "  color: #f1f1f1;\n",
       "}\n",
       "#T_50fc6_row3_col4, #T_50fc6_row5_col4 {\n",
       "  background-color: #f7f0f7;\n",
       "  color: #000000;\n",
       "}\n",
       "#T_50fc6_row3_col5 {\n",
       "  background-color: #3f93c2;\n",
       "  color: #f1f1f1;\n",
       "}\n",
       "#T_50fc6_row3_col6 {\n",
       "  background-color: #2685bb;\n",
       "  color: #f1f1f1;\n",
       "}\n",
       "#T_50fc6_row4_col0, #T_50fc6_row4_col1, #T_50fc6_row4_col2, #T_50fc6_row4_col3, #T_50fc6_row4_col5, #T_50fc6_row4_col6, #T_50fc6_row6_col4 {\n",
       "  background-color: #fff7fb;\n",
       "  color: #000000;\n",
       "}\n",
       "#T_50fc6_row5_col0 {\n",
       "  background-color: #88b1d4;\n",
       "  color: #000000;\n",
       "}\n",
       "#T_50fc6_row5_col1 {\n",
       "  background-color: #7eadd1;\n",
       "  color: #f1f1f1;\n",
       "}\n",
       "#T_50fc6_row5_col2 {\n",
       "  background-color: #d7d6e9;\n",
       "  color: #000000;\n",
       "}\n",
       "#T_50fc6_row5_col6 {\n",
       "  background-color: #adc1dd;\n",
       "  color: #000000;\n",
       "}\n",
       "#T_50fc6_row6_col0 {\n",
       "  background-color: #d0d1e6;\n",
       "  color: #000000;\n",
       "}\n",
       "#T_50fc6_row6_col1 {\n",
       "  background-color: #c4cbe3;\n",
       "  color: #000000;\n",
       "}\n",
       "#T_50fc6_row6_col3 {\n",
       "  background-color: #d9d8ea;\n",
       "  color: #000000;\n",
       "}\n",
       "#T_50fc6_row6_col5 {\n",
       "  background-color: #d8d7e9;\n",
       "  color: #000000;\n",
       "}\n",
       "</style>\n",
       "<table id=\"T_50fc6\">\n",
       "  <thead>\n",
       "    <tr>\n",
       "      <th class=\"blank level0\" >&nbsp;</th>\n",
       "      <th id=\"T_50fc6_level0_col0\" class=\"col_heading level0 col0\" >tornode</th>\n",
       "      <th id=\"T_50fc6_level0_col1\" class=\"col_heading level0 col1\" >reddit2021</th>\n",
       "      <th id=\"T_50fc6_level0_col2\" class=\"col_heading level0 col2\" >deepdarkcti</th>\n",
       "      <th id=\"T_50fc6_level0_col3\" class=\"col_heading level0 col3\" >ransomwatch</th>\n",
       "      <th id=\"T_50fc6_level0_col4\" class=\"col_heading level0 col4\" >nomoreransom</th>\n",
       "      <th id=\"T_50fc6_level0_col5\" class=\"col_heading level0 col5\" >ransomdb</th>\n",
       "      <th id=\"T_50fc6_level0_col6\" class=\"col_heading level0 col6\" >darkfeed</th>\n",
       "    </tr>\n",
       "  </thead>\n",
       "  <tbody>\n",
       "    <tr>\n",
       "      <th id=\"T_50fc6_level0_row0\" class=\"row_heading level0 row0\" >tornode</th>\n",
       "      <td id=\"T_50fc6_row0_col0\" class=\"data row0 col0\" >77</td>\n",
       "      <td id=\"T_50fc6_row0_col1\" class=\"data row0 col1\" >23</td>\n",
       "      <td id=\"T_50fc6_row0_col2\" class=\"data row0 col2\" >58</td>\n",
       "      <td id=\"T_50fc6_row0_col3\" class=\"data row0 col3\" >57</td>\n",
       "      <td id=\"T_50fc6_row0_col4\" class=\"data row0 col4\" >6</td>\n",
       "      <td id=\"T_50fc6_row0_col5\" class=\"data row0 col5\" >38</td>\n",
       "      <td id=\"T_50fc6_row0_col6\" class=\"data row0 col6\" >24</td>\n",
       "    </tr>\n",
       "    <tr>\n",
       "      <th id=\"T_50fc6_level0_row1\" class=\"row_heading level0 row1\" >reddit2021</th>\n",
       "      <td id=\"T_50fc6_row1_col0\" class=\"data row1 col0\" >23</td>\n",
       "      <td id=\"T_50fc6_row1_col1\" class=\"data row1 col1\" >25</td>\n",
       "      <td id=\"T_50fc6_row1_col2\" class=\"data row1 col2\" >22</td>\n",
       "      <td id=\"T_50fc6_row1_col3\" class=\"data row1 col3\" >20</td>\n",
       "      <td id=\"T_50fc6_row1_col4\" class=\"data row1 col4\" >4</td>\n",
       "      <td id=\"T_50fc6_row1_col5\" class=\"data row1 col5\" >14</td>\n",
       "      <td id=\"T_50fc6_row1_col6\" class=\"data row1 col6\" >10</td>\n",
       "    </tr>\n",
       "    <tr>\n",
       "      <th id=\"T_50fc6_level0_row2\" class=\"row_heading level0 row2\" >deepdarkcti</th>\n",
       "      <td id=\"T_50fc6_row2_col0\" class=\"data row2 col0\" >58</td>\n",
       "      <td id=\"T_50fc6_row2_col1\" class=\"data row2 col1\" >22</td>\n",
       "      <td id=\"T_50fc6_row2_col2\" class=\"data row2 col2\" >129</td>\n",
       "      <td id=\"T_50fc6_row2_col3\" class=\"data row2 col3\" >85</td>\n",
       "      <td id=\"T_50fc6_row2_col4\" class=\"data row2 col4\" >12</td>\n",
       "      <td id=\"T_50fc6_row2_col5\" class=\"data row2 col5\" >38</td>\n",
       "      <td id=\"T_50fc6_row2_col6\" class=\"data row2 col6\" >24</td>\n",
       "    </tr>\n",
       "    <tr>\n",
       "      <th id=\"T_50fc6_level0_row3\" class=\"row_heading level0 row3\" >ransomwatch</th>\n",
       "      <td id=\"T_50fc6_row3_col0\" class=\"data row3 col0\" >57</td>\n",
       "      <td id=\"T_50fc6_row3_col1\" class=\"data row3 col1\" >20</td>\n",
       "      <td id=\"T_50fc6_row3_col2\" class=\"data row3 col2\" >85</td>\n",
       "      <td id=\"T_50fc6_row3_col3\" class=\"data row3 col3\" >125</td>\n",
       "      <td id=\"T_50fc6_row3_col4\" class=\"data row3 col4\" >8</td>\n",
       "      <td id=\"T_50fc6_row3_col5\" class=\"data row3 col5\" >36</td>\n",
       "      <td id=\"T_50fc6_row3_col6\" class=\"data row3 col6\" >33</td>\n",
       "    </tr>\n",
       "    <tr>\n",
       "      <th id=\"T_50fc6_level0_row4\" class=\"row_heading level0 row4\" >nomoreransom</th>\n",
       "      <td id=\"T_50fc6_row4_col0\" class=\"data row4 col0\" >6</td>\n",
       "      <td id=\"T_50fc6_row4_col1\" class=\"data row4 col1\" >4</td>\n",
       "      <td id=\"T_50fc6_row4_col2\" class=\"data row4 col2\" >12</td>\n",
       "      <td id=\"T_50fc6_row4_col3\" class=\"data row4 col3\" >8</td>\n",
       "      <td id=\"T_50fc6_row4_col4\" class=\"data row4 col4\" >127</td>\n",
       "      <td id=\"T_50fc6_row4_col5\" class=\"data row4 col5\" >8</td>\n",
       "      <td id=\"T_50fc6_row4_col6\" class=\"data row4 col6\" >1</td>\n",
       "    </tr>\n",
       "    <tr>\n",
       "      <th id=\"T_50fc6_level0_row5\" class=\"row_heading level0 row5\" >ransomdb</th>\n",
       "      <td id=\"T_50fc6_row5_col0\" class=\"data row5 col0\" >38</td>\n",
       "      <td id=\"T_50fc6_row5_col1\" class=\"data row5 col1\" >14</td>\n",
       "      <td id=\"T_50fc6_row5_col2\" class=\"data row5 col2\" >38</td>\n",
       "      <td id=\"T_50fc6_row5_col3\" class=\"data row5 col3\" >36</td>\n",
       "      <td id=\"T_50fc6_row5_col4\" class=\"data row5 col4\" >8</td>\n",
       "      <td id=\"T_50fc6_row5_col5\" class=\"data row5 col5\" >54</td>\n",
       "      <td id=\"T_50fc6_row5_col6\" class=\"data row5 col6\" >18</td>\n",
       "    </tr>\n",
       "    <tr>\n",
       "      <th id=\"T_50fc6_level0_row6\" class=\"row_heading level0 row6\" >darkfeed</th>\n",
       "      <td id=\"T_50fc6_row6_col0\" class=\"data row6 col0\" >24</td>\n",
       "      <td id=\"T_50fc6_row6_col1\" class=\"data row6 col1\" >10</td>\n",
       "      <td id=\"T_50fc6_row6_col2\" class=\"data row6 col2\" >24</td>\n",
       "      <td id=\"T_50fc6_row6_col3\" class=\"data row6 col3\" >33</td>\n",
       "      <td id=\"T_50fc6_row6_col4\" class=\"data row6 col4\" >1</td>\n",
       "      <td id=\"T_50fc6_row6_col5\" class=\"data row6 col5\" >18</td>\n",
       "      <td id=\"T_50fc6_row6_col6\" class=\"data row6 col6\" >49</td>\n",
       "    </tr>\n",
       "  </tbody>\n",
       "</table>\n"
      ],
      "text/plain": [
       "<pandas.io.formats.style.Styler at 0x1242b52b0>"
      ]
     },
     "execution_count": 64,
     "metadata": {},
     "output_type": "execute_result"
    }
   ],
   "source": [
    "matrix_intersection.apply(pd.to_numeric).style.background_gradient()"
   ]
  }
 ],
 "metadata": {
  "kernelspec": {
   "display_name": "Python 3",
   "language": "python",
   "name": "python3"
  },
  "language_info": {
   "codemirror_mode": {
    "name": "ipython",
    "version": 3
   },
   "file_extension": ".py",
   "mimetype": "text/x-python",
   "name": "python",
   "nbconvert_exporter": "python",
   "pygments_lexer": "ipython3",
   "version": "3.9.14"
  }
 },
 "nbformat": 4,
 "nbformat_minor": 5
}
